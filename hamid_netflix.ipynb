{
 "cells": [
  {
   "cell_type": "code",
   "execution_count": 1,
   "metadata": {},
   "outputs": [],
   "source": [
    "import numpy as np\n",
    "import pandas as pd\n",
    "import seaborn as sns\n",
    "import matplotlib.pyplot as plt\n",
    "import warnings\n",
    "warnings.filterwarnings('ignore')\n",
    "%matplotlib inline"
   ]
  },
  {
   "cell_type": "code",
   "execution_count": 2,
   "metadata": {},
   "outputs": [
    {
     "data": {
      "text/plain": [
       "\"Column explanations in Netflix dataset:\\n\\nshow_id: unique ID for each movie\\ntype: 'Movie' or 'TV Show' - in this case we're only using the movies\\ntitle: official movie title\\ndirector: name of director\\ncast: list of actors' names in movie\\ncountry: country where the movie was produced\\ndate_added: date that the movie was added to Netflix\\nrelease_year: year that the movie was originally released\\nrating: age rating of movie\\nduration: duration of the movie in minutes\\nlisted_in: relevant genres of the movie\\ndescription: short description of the movie plot\\nThe only columns that I will be using here are title, \\nrelease_year, listed_in and country as title and release_year are \\nimportant identifiers, listed_in allows us to find the best movies\\nfrom different genres and country allows us to find the best movies for each country.\""
      ]
     },
     "execution_count": 2,
     "metadata": {},
     "output_type": "execute_result"
    }
   ],
   "source": [
    "\"\"\"Column explanations in Netflix dataset:\n",
    "\n",
    "show_id: unique ID for each movie\n",
    "type: 'Movie' or 'TV Show' - in this case we're only using the movies\n",
    "title: official movie title\n",
    "director: name of director\n",
    "cast: list of actors' names in movie\n",
    "country: country where the movie was produced\n",
    "date_added: date that the movie was added to Netflix\n",
    "release_year: year that the movie was originally released\n",
    "rating: age rating of movie\n",
    "duration: duration of the movie in minutes\n",
    "listed_in: relevant genres of the movie\n",
    "description: short description of the movie plot\n",
    "The only columns that I will be using here are title, \n",
    "release_year, listed_in and country as title and release_year are \n",
    "important identifiers, listed_in allows us to find the best movies\n",
    "from different genres and country allows us to find the best movies for each country.\"\"\""
   ]
  },
  {
   "cell_type": "code",
   "execution_count": 3,
   "metadata": {},
   "outputs": [],
   "source": [
    "df = pd.read_csv('netflix_titles.csv')"
   ]
  },
  {
   "cell_type": "code",
   "execution_count": 4,
   "metadata": {},
   "outputs": [
    {
     "data": {
      "text/html": [
       "<div>\n",
       "<style scoped>\n",
       "    .dataframe tbody tr th:only-of-type {\n",
       "        vertical-align: middle;\n",
       "    }\n",
       "\n",
       "    .dataframe tbody tr th {\n",
       "        vertical-align: top;\n",
       "    }\n",
       "\n",
       "    .dataframe thead th {\n",
       "        text-align: right;\n",
       "    }\n",
       "</style>\n",
       "<table border=\"1\" class=\"dataframe\">\n",
       "  <thead>\n",
       "    <tr style=\"text-align: right;\">\n",
       "      <th></th>\n",
       "      <th>show_id</th>\n",
       "      <th>type</th>\n",
       "      <th>title</th>\n",
       "      <th>director</th>\n",
       "      <th>cast</th>\n",
       "      <th>country</th>\n",
       "      <th>date_added</th>\n",
       "      <th>release_year</th>\n",
       "      <th>rating</th>\n",
       "      <th>duration</th>\n",
       "      <th>listed_in</th>\n",
       "      <th>description</th>\n",
       "    </tr>\n",
       "  </thead>\n",
       "  <tbody>\n",
       "    <tr>\n",
       "      <td>0</td>\n",
       "      <td>s1</td>\n",
       "      <td>TV Show</td>\n",
       "      <td>3%</td>\n",
       "      <td>NaN</td>\n",
       "      <td>João Miguel, Bianca Comparato, Michel Gomes, R...</td>\n",
       "      <td>Brazil</td>\n",
       "      <td>August 14, 2020</td>\n",
       "      <td>2020</td>\n",
       "      <td>TV-MA</td>\n",
       "      <td>4 Seasons</td>\n",
       "      <td>International TV Shows, TV Dramas, TV Sci-Fi &amp;...</td>\n",
       "      <td>In a future where the elite inhabit an island ...</td>\n",
       "    </tr>\n",
       "    <tr>\n",
       "      <td>1</td>\n",
       "      <td>s2</td>\n",
       "      <td>Movie</td>\n",
       "      <td>7:19</td>\n",
       "      <td>Jorge Michel Grau</td>\n",
       "      <td>Demián Bichir, Héctor Bonilla, Oscar Serrano, ...</td>\n",
       "      <td>Mexico</td>\n",
       "      <td>December 23, 2016</td>\n",
       "      <td>2016</td>\n",
       "      <td>TV-MA</td>\n",
       "      <td>93 min</td>\n",
       "      <td>Dramas, International Movies</td>\n",
       "      <td>After a devastating earthquake hits Mexico Cit...</td>\n",
       "    </tr>\n",
       "    <tr>\n",
       "      <td>2</td>\n",
       "      <td>s3</td>\n",
       "      <td>Movie</td>\n",
       "      <td>23:59</td>\n",
       "      <td>Gilbert Chan</td>\n",
       "      <td>Tedd Chan, Stella Chung, Henley Hii, Lawrence ...</td>\n",
       "      <td>Singapore</td>\n",
       "      <td>December 20, 2018</td>\n",
       "      <td>2011</td>\n",
       "      <td>R</td>\n",
       "      <td>78 min</td>\n",
       "      <td>Horror Movies, International Movies</td>\n",
       "      <td>When an army recruit is found dead, his fellow...</td>\n",
       "    </tr>\n",
       "    <tr>\n",
       "      <td>3</td>\n",
       "      <td>s4</td>\n",
       "      <td>Movie</td>\n",
       "      <td>9</td>\n",
       "      <td>Shane Acker</td>\n",
       "      <td>Elijah Wood, John C. Reilly, Jennifer Connelly...</td>\n",
       "      <td>United States</td>\n",
       "      <td>November 16, 2017</td>\n",
       "      <td>2009</td>\n",
       "      <td>PG-13</td>\n",
       "      <td>80 min</td>\n",
       "      <td>Action &amp; Adventure, Independent Movies, Sci-Fi...</td>\n",
       "      <td>In a postapocalyptic world, rag-doll robots hi...</td>\n",
       "    </tr>\n",
       "    <tr>\n",
       "      <td>4</td>\n",
       "      <td>s5</td>\n",
       "      <td>Movie</td>\n",
       "      <td>21</td>\n",
       "      <td>Robert Luketic</td>\n",
       "      <td>Jim Sturgess, Kevin Spacey, Kate Bosworth, Aar...</td>\n",
       "      <td>United States</td>\n",
       "      <td>January 1, 2020</td>\n",
       "      <td>2008</td>\n",
       "      <td>PG-13</td>\n",
       "      <td>123 min</td>\n",
       "      <td>Dramas</td>\n",
       "      <td>A brilliant group of students become card-coun...</td>\n",
       "    </tr>\n",
       "  </tbody>\n",
       "</table>\n",
       "</div>"
      ],
      "text/plain": [
       "  show_id     type  title           director  \\\n",
       "0      s1  TV Show     3%                NaN   \n",
       "1      s2    Movie   7:19  Jorge Michel Grau   \n",
       "2      s3    Movie  23:59       Gilbert Chan   \n",
       "3      s4    Movie      9        Shane Acker   \n",
       "4      s5    Movie     21     Robert Luketic   \n",
       "\n",
       "                                                cast        country  \\\n",
       "0  João Miguel, Bianca Comparato, Michel Gomes, R...         Brazil   \n",
       "1  Demián Bichir, Héctor Bonilla, Oscar Serrano, ...         Mexico   \n",
       "2  Tedd Chan, Stella Chung, Henley Hii, Lawrence ...      Singapore   \n",
       "3  Elijah Wood, John C. Reilly, Jennifer Connelly...  United States   \n",
       "4  Jim Sturgess, Kevin Spacey, Kate Bosworth, Aar...  United States   \n",
       "\n",
       "          date_added  release_year rating   duration  \\\n",
       "0    August 14, 2020          2020  TV-MA  4 Seasons   \n",
       "1  December 23, 2016          2016  TV-MA     93 min   \n",
       "2  December 20, 2018          2011      R     78 min   \n",
       "3  November 16, 2017          2009  PG-13     80 min   \n",
       "4    January 1, 2020          2008  PG-13    123 min   \n",
       "\n",
       "                                           listed_in  \\\n",
       "0  International TV Shows, TV Dramas, TV Sci-Fi &...   \n",
       "1                       Dramas, International Movies   \n",
       "2                Horror Movies, International Movies   \n",
       "3  Action & Adventure, Independent Movies, Sci-Fi...   \n",
       "4                                             Dramas   \n",
       "\n",
       "                                         description  \n",
       "0  In a future where the elite inhabit an island ...  \n",
       "1  After a devastating earthquake hits Mexico Cit...  \n",
       "2  When an army recruit is found dead, his fellow...  \n",
       "3  In a postapocalyptic world, rag-doll robots hi...  \n",
       "4  A brilliant group of students become card-coun...  "
      ]
     },
     "execution_count": 4,
     "metadata": {},
     "output_type": "execute_result"
    }
   ],
   "source": [
    "df.head()"
   ]
  },
  {
   "cell_type": "code",
   "execution_count": 5,
   "metadata": {},
   "outputs": [
    {
     "name": "stdout",
     "output_type": "stream",
     "text": [
      "<class 'pandas.core.frame.DataFrame'>\n",
      "RangeIndex: 7787 entries, 0 to 7786\n",
      "Data columns (total 12 columns):\n",
      "show_id         7787 non-null object\n",
      "type            7787 non-null object\n",
      "title           7787 non-null object\n",
      "director        5398 non-null object\n",
      "cast            7069 non-null object\n",
      "country         7280 non-null object\n",
      "date_added      7777 non-null object\n",
      "release_year    7787 non-null int64\n",
      "rating          7780 non-null object\n",
      "duration        7787 non-null object\n",
      "listed_in       7787 non-null object\n",
      "description     7787 non-null object\n",
      "dtypes: int64(1), object(11)\n",
      "memory usage: 730.2+ KB\n"
     ]
    }
   ],
   "source": [
    "df.info()"
   ]
  },
  {
   "cell_type": "code",
   "execution_count": 6,
   "metadata": {},
   "outputs": [
    {
     "data": {
      "text/plain": [
       "(7787, 12)"
      ]
     },
     "execution_count": 6,
     "metadata": {},
     "output_type": "execute_result"
    }
   ],
   "source": [
    "df.shape"
   ]
  },
  {
   "cell_type": "code",
   "execution_count": 7,
   "metadata": {},
   "outputs": [],
   "source": [
    "pd.options.display.float_format=\"{:,.2f}\".format"
   ]
  },
  {
   "cell_type": "code",
   "execution_count": 8,
   "metadata": {},
   "outputs": [
    {
     "name": "stdout",
     "output_type": "stream",
     "text": [
      "the null rate for director is  30.68 %\n",
      "the null rate for cast is  9.22 %\n",
      "the null rate for country is  6.51 %\n",
      "the null rate for date_added is  0.13 %\n",
      "the null rate for rating is  0.09 %\n"
     ]
    }
   ],
   "source": [
    "##FINDING NULL NUMBER:\n",
    "\n",
    "for i in df.columns:\n",
    "    null_rate = (df[i].isnull().sum())/ df.shape[0] * 100\n",
    "    if null_rate >0:\n",
    "        print('the null rate for {} is  {:,.2f} %'.format(i,null_rate))"
   ]
  },
  {
   "cell_type": "code",
   "execution_count": 9,
   "metadata": {},
   "outputs": [],
   "source": [
    "df['date_added'] =df['date_added'].fillna(value=df['date_added'].mode()[0])\n"
   ]
  },
  {
   "cell_type": "code",
   "execution_count": 10,
   "metadata": {},
   "outputs": [],
   "source": [
    "df['rating'] =df['rating'].fillna(value=df['rating'].mode()[0])"
   ]
  },
  {
   "cell_type": "code",
   "execution_count": 11,
   "metadata": {},
   "outputs": [],
   "source": [
    "#df['date_added'] =df['date_added'].fillna(value=df['date_added'].mode()[0])\n",
    "df['country'] =df['country'].fillna(value=df['country'].mode()[0])"
   ]
  },
  {
   "cell_type": "code",
   "execution_count": 12,
   "metadata": {},
   "outputs": [
    {
     "name": "stdout",
     "output_type": "stream",
     "text": [
      "the null rate for director is  30.68 %\n",
      "the null rate for cast is  9.22 %\n"
     ]
    }
   ],
   "source": [
    "##FINDING NULL NUMBER:\n",
    "\n",
    "for i in df.columns:\n",
    "    null_rate = (df[i].isnull().sum())/ df.shape[0] * 100\n",
    "    if null_rate >0:\n",
    "        print('the null rate for {} is  {:,.2f} %'.format(i,null_rate))"
   ]
  },
  {
   "cell_type": "code",
   "execution_count": 13,
   "metadata": {},
   "outputs": [],
   "source": [
    "df['director'].replace(np.nan,'NO DATA',inplace=True)\n",
    "df['cast'].replace(np.nan,'NO DATA',inplace=True)"
   ]
  },
  {
   "cell_type": "code",
   "execution_count": 14,
   "metadata": {},
   "outputs": [
    {
     "name": "stdout",
     "output_type": "stream",
     "text": [
      "<class 'pandas.core.frame.DataFrame'>\n",
      "RangeIndex: 7787 entries, 0 to 7786\n",
      "Data columns (total 12 columns):\n",
      "show_id         7787 non-null object\n",
      "type            7787 non-null object\n",
      "title           7787 non-null object\n",
      "director        7787 non-null object\n",
      "cast            7787 non-null object\n",
      "country         7787 non-null object\n",
      "date_added      7787 non-null object\n",
      "release_year    7787 non-null int64\n",
      "rating          7787 non-null object\n",
      "duration        7787 non-null object\n",
      "listed_in       7787 non-null object\n",
      "description     7787 non-null object\n",
      "dtypes: int64(1), object(11)\n",
      "memory usage: 730.2+ KB\n"
     ]
    }
   ],
   "source": [
    "df.info()"
   ]
  },
  {
   "cell_type": "code",
   "execution_count": 15,
   "metadata": {},
   "outputs": [],
   "source": [
    "import datetime\n",
    "\n",
    "df['Data_new_added']=pd.to_datetime(df['date_added'])"
   ]
  },
  {
   "cell_type": "code",
   "execution_count": 16,
   "metadata": {},
   "outputs": [],
   "source": [
    "df['Data_new_added']\n",
    "\n",
    "#remove date_add\n",
    "\n",
    "del df['date_added']"
   ]
  },
  {
   "cell_type": "code",
   "execution_count": 17,
   "metadata": {},
   "outputs": [
    {
     "name": "stdout",
     "output_type": "stream",
     "text": [
      "<class 'pandas.core.frame.DataFrame'>\n",
      "RangeIndex: 7787 entries, 0 to 7786\n",
      "Data columns (total 12 columns):\n",
      "show_id           7787 non-null object\n",
      "type              7787 non-null object\n",
      "title             7787 non-null object\n",
      "director          7787 non-null object\n",
      "cast              7787 non-null object\n",
      "country           7787 non-null object\n",
      "release_year      7787 non-null int64\n",
      "rating            7787 non-null object\n",
      "duration          7787 non-null object\n",
      "listed_in         7787 non-null object\n",
      "description       7787 non-null object\n",
      "Data_new_added    7787 non-null datetime64[ns]\n",
      "dtypes: datetime64[ns](1), int64(1), object(10)\n",
      "memory usage: 730.2+ KB\n"
     ]
    }
   ],
   "source": [
    "df.info()"
   ]
  },
  {
   "cell_type": "code",
   "execution_count": 18,
   "metadata": {},
   "outputs": [],
   "source": [
    "df['year_add'] = df['Data_new_added'].dt.year\n",
    "df['month_add'] = df['Data_new_added'].dt.month\n",
    "df['month_add_name'] = df['Data_new_added'].dt.month_name()"
   ]
  },
  {
   "cell_type": "code",
   "execution_count": 19,
   "metadata": {},
   "outputs": [
    {
     "data": {
      "text/html": [
       "<div>\n",
       "<style scoped>\n",
       "    .dataframe tbody tr th:only-of-type {\n",
       "        vertical-align: middle;\n",
       "    }\n",
       "\n",
       "    .dataframe tbody tr th {\n",
       "        vertical-align: top;\n",
       "    }\n",
       "\n",
       "    .dataframe thead th {\n",
       "        text-align: right;\n",
       "    }\n",
       "</style>\n",
       "<table border=\"1\" class=\"dataframe\">\n",
       "  <thead>\n",
       "    <tr style=\"text-align: right;\">\n",
       "      <th></th>\n",
       "      <th>show_id</th>\n",
       "      <th>type</th>\n",
       "      <th>title</th>\n",
       "      <th>director</th>\n",
       "      <th>cast</th>\n",
       "      <th>country</th>\n",
       "      <th>release_year</th>\n",
       "      <th>rating</th>\n",
       "      <th>duration</th>\n",
       "      <th>listed_in</th>\n",
       "      <th>description</th>\n",
       "      <th>Data_new_added</th>\n",
       "      <th>year_add</th>\n",
       "      <th>month_add</th>\n",
       "      <th>month_add_name</th>\n",
       "    </tr>\n",
       "  </thead>\n",
       "  <tbody>\n",
       "    <tr>\n",
       "      <td>0</td>\n",
       "      <td>s1</td>\n",
       "      <td>TV Show</td>\n",
       "      <td>3%</td>\n",
       "      <td>NO DATA</td>\n",
       "      <td>João Miguel, Bianca Comparato, Michel Gomes, R...</td>\n",
       "      <td>Brazil</td>\n",
       "      <td>2020</td>\n",
       "      <td>TV-MA</td>\n",
       "      <td>4 Seasons</td>\n",
       "      <td>International TV Shows, TV Dramas, TV Sci-Fi &amp;...</td>\n",
       "      <td>In a future where the elite inhabit an island ...</td>\n",
       "      <td>2020-08-14</td>\n",
       "      <td>2020</td>\n",
       "      <td>8</td>\n",
       "      <td>August</td>\n",
       "    </tr>\n",
       "    <tr>\n",
       "      <td>1</td>\n",
       "      <td>s2</td>\n",
       "      <td>Movie</td>\n",
       "      <td>7:19</td>\n",
       "      <td>Jorge Michel Grau</td>\n",
       "      <td>Demián Bichir, Héctor Bonilla, Oscar Serrano, ...</td>\n",
       "      <td>Mexico</td>\n",
       "      <td>2016</td>\n",
       "      <td>TV-MA</td>\n",
       "      <td>93 min</td>\n",
       "      <td>Dramas, International Movies</td>\n",
       "      <td>After a devastating earthquake hits Mexico Cit...</td>\n",
       "      <td>2016-12-23</td>\n",
       "      <td>2016</td>\n",
       "      <td>12</td>\n",
       "      <td>December</td>\n",
       "    </tr>\n",
       "    <tr>\n",
       "      <td>2</td>\n",
       "      <td>s3</td>\n",
       "      <td>Movie</td>\n",
       "      <td>23:59</td>\n",
       "      <td>Gilbert Chan</td>\n",
       "      <td>Tedd Chan, Stella Chung, Henley Hii, Lawrence ...</td>\n",
       "      <td>Singapore</td>\n",
       "      <td>2011</td>\n",
       "      <td>R</td>\n",
       "      <td>78 min</td>\n",
       "      <td>Horror Movies, International Movies</td>\n",
       "      <td>When an army recruit is found dead, his fellow...</td>\n",
       "      <td>2018-12-20</td>\n",
       "      <td>2018</td>\n",
       "      <td>12</td>\n",
       "      <td>December</td>\n",
       "    </tr>\n",
       "    <tr>\n",
       "      <td>3</td>\n",
       "      <td>s4</td>\n",
       "      <td>Movie</td>\n",
       "      <td>9</td>\n",
       "      <td>Shane Acker</td>\n",
       "      <td>Elijah Wood, John C. Reilly, Jennifer Connelly...</td>\n",
       "      <td>United States</td>\n",
       "      <td>2009</td>\n",
       "      <td>PG-13</td>\n",
       "      <td>80 min</td>\n",
       "      <td>Action &amp; Adventure, Independent Movies, Sci-Fi...</td>\n",
       "      <td>In a postapocalyptic world, rag-doll robots hi...</td>\n",
       "      <td>2017-11-16</td>\n",
       "      <td>2017</td>\n",
       "      <td>11</td>\n",
       "      <td>November</td>\n",
       "    </tr>\n",
       "    <tr>\n",
       "      <td>4</td>\n",
       "      <td>s5</td>\n",
       "      <td>Movie</td>\n",
       "      <td>21</td>\n",
       "      <td>Robert Luketic</td>\n",
       "      <td>Jim Sturgess, Kevin Spacey, Kate Bosworth, Aar...</td>\n",
       "      <td>United States</td>\n",
       "      <td>2008</td>\n",
       "      <td>PG-13</td>\n",
       "      <td>123 min</td>\n",
       "      <td>Dramas</td>\n",
       "      <td>A brilliant group of students become card-coun...</td>\n",
       "      <td>2020-01-01</td>\n",
       "      <td>2020</td>\n",
       "      <td>1</td>\n",
       "      <td>January</td>\n",
       "    </tr>\n",
       "  </tbody>\n",
       "</table>\n",
       "</div>"
      ],
      "text/plain": [
       "  show_id     type  title           director  \\\n",
       "0      s1  TV Show     3%            NO DATA   \n",
       "1      s2    Movie   7:19  Jorge Michel Grau   \n",
       "2      s3    Movie  23:59       Gilbert Chan   \n",
       "3      s4    Movie      9        Shane Acker   \n",
       "4      s5    Movie     21     Robert Luketic   \n",
       "\n",
       "                                                cast        country  \\\n",
       "0  João Miguel, Bianca Comparato, Michel Gomes, R...         Brazil   \n",
       "1  Demián Bichir, Héctor Bonilla, Oscar Serrano, ...         Mexico   \n",
       "2  Tedd Chan, Stella Chung, Henley Hii, Lawrence ...      Singapore   \n",
       "3  Elijah Wood, John C. Reilly, Jennifer Connelly...  United States   \n",
       "4  Jim Sturgess, Kevin Spacey, Kate Bosworth, Aar...  United States   \n",
       "\n",
       "   release_year rating   duration  \\\n",
       "0          2020  TV-MA  4 Seasons   \n",
       "1          2016  TV-MA     93 min   \n",
       "2          2011      R     78 min   \n",
       "3          2009  PG-13     80 min   \n",
       "4          2008  PG-13    123 min   \n",
       "\n",
       "                                           listed_in  \\\n",
       "0  International TV Shows, TV Dramas, TV Sci-Fi &...   \n",
       "1                       Dramas, International Movies   \n",
       "2                Horror Movies, International Movies   \n",
       "3  Action & Adventure, Independent Movies, Sci-Fi...   \n",
       "4                                             Dramas   \n",
       "\n",
       "                                         description Data_new_added  year_add  \\\n",
       "0  In a future where the elite inhabit an island ...     2020-08-14      2020   \n",
       "1  After a devastating earthquake hits Mexico Cit...     2016-12-23      2016   \n",
       "2  When an army recruit is found dead, his fellow...     2018-12-20      2018   \n",
       "3  In a postapocalyptic world, rag-doll robots hi...     2017-11-16      2017   \n",
       "4  A brilliant group of students become card-coun...     2020-01-01      2020   \n",
       "\n",
       "   month_add month_add_name  \n",
       "0          8         August  \n",
       "1         12       December  \n",
       "2         12       December  \n",
       "3         11       November  \n",
       "4          1        January  "
      ]
     },
     "execution_count": 19,
     "metadata": {},
     "output_type": "execute_result"
    }
   ],
   "source": [
    "df.head()"
   ]
  },
  {
   "cell_type": "code",
   "execution_count": 20,
   "metadata": {},
   "outputs": [
    {
     "data": {
      "text/plain": [
       "United States     3062\n",
       "India              923\n",
       "United Kingdom     397\n",
       "Japan              226\n",
       "South Korea        183\n",
       "Canada             177\n",
       "Spain              134\n",
       "France             115\n",
       "Egypt              101\n",
       "Turkey             100\n",
       "Name: country, dtype: int64"
      ]
     },
     "execution_count": 20,
     "metadata": {},
     "output_type": "execute_result"
    }
   ],
   "source": [
    "df['country'].value_counts().head(10)"
   ]
  },
  {
   "cell_type": "code",
   "execution_count": 21,
   "metadata": {},
   "outputs": [
    {
     "data": {
      "text/html": [
       "<div>\n",
       "<style scoped>\n",
       "    .dataframe tbody tr th:only-of-type {\n",
       "        vertical-align: middle;\n",
       "    }\n",
       "\n",
       "    .dataframe tbody tr th {\n",
       "        vertical-align: top;\n",
       "    }\n",
       "\n",
       "    .dataframe thead th {\n",
       "        text-align: right;\n",
       "    }\n",
       "</style>\n",
       "<table border=\"1\" class=\"dataframe\">\n",
       "  <thead>\n",
       "    <tr style=\"text-align: right;\">\n",
       "      <th></th>\n",
       "      <th></th>\n",
       "      <th>show_id</th>\n",
       "      <th>type</th>\n",
       "      <th>title</th>\n",
       "      <th>director</th>\n",
       "      <th>cast</th>\n",
       "      <th>release_year</th>\n",
       "      <th>duration</th>\n",
       "      <th>listed_in</th>\n",
       "      <th>description</th>\n",
       "      <th>Data_new_added</th>\n",
       "      <th>year_add</th>\n",
       "      <th>month_add</th>\n",
       "      <th>month_add_name</th>\n",
       "    </tr>\n",
       "    <tr>\n",
       "      <th>country</th>\n",
       "      <th>rating</th>\n",
       "      <th></th>\n",
       "      <th></th>\n",
       "      <th></th>\n",
       "      <th></th>\n",
       "      <th></th>\n",
       "      <th></th>\n",
       "      <th></th>\n",
       "      <th></th>\n",
       "      <th></th>\n",
       "      <th></th>\n",
       "      <th></th>\n",
       "      <th></th>\n",
       "      <th></th>\n",
       "    </tr>\n",
       "  </thead>\n",
       "  <tbody>\n",
       "    <tr>\n",
       "      <td rowspan=\"5\" valign=\"top\">Argentina</td>\n",
       "      <td>NR</td>\n",
       "      <td>s1581</td>\n",
       "      <td>Movie</td>\n",
       "      <td>Daemonium</td>\n",
       "      <td>Pablo Parés</td>\n",
       "      <td>Walter Cornás, Dany Casco, Caro Angus, Rocío R...</td>\n",
       "      <td>2015</td>\n",
       "      <td>115 min</td>\n",
       "      <td>Action &amp; Adventure, Horror Movies, Internation...</td>\n",
       "      <td>In a realm where magic and technology intersec...</td>\n",
       "      <td>2016-12-20</td>\n",
       "      <td>2016</td>\n",
       "      <td>12</td>\n",
       "      <td>December</td>\n",
       "    </tr>\n",
       "    <tr>\n",
       "      <td>R</td>\n",
       "      <td>s1376</td>\n",
       "      <td>Movie</td>\n",
       "      <td>Chronicle of an Escape</td>\n",
       "      <td>Israel Adrián Caetano</td>\n",
       "      <td>Rodrigo de la Serna, Pablo Echarri, Nazareno C...</td>\n",
       "      <td>2006</td>\n",
       "      <td>104 min</td>\n",
       "      <td>Dramas, International Movies, Thrillers</td>\n",
       "      <td>Soccer goalie Claudio Tamburrini is kidnapped ...</td>\n",
       "      <td>2018-06-15</td>\n",
       "      <td>2018</td>\n",
       "      <td>6</td>\n",
       "      <td>June</td>\n",
       "    </tr>\n",
       "    <tr>\n",
       "      <td>TV-14</td>\n",
       "      <td>s195</td>\n",
       "      <td>Movie</td>\n",
       "      <td>A Life of Speed: The Juan Manuel Fangio Story</td>\n",
       "      <td>Francisco Macri</td>\n",
       "      <td>NO DATA</td>\n",
       "      <td>2020</td>\n",
       "      <td>93 min</td>\n",
       "      <td>Documentaries, International Movies, Sports Mo...</td>\n",
       "      <td>Juan Manuel Fangio was the Formula One king, w...</td>\n",
       "      <td>2020-03-20</td>\n",
       "      <td>2020</td>\n",
       "      <td>3</td>\n",
       "      <td>March</td>\n",
       "    </tr>\n",
       "    <tr>\n",
       "      <td>TV-G</td>\n",
       "      <td>s5225</td>\n",
       "      <td>Movie</td>\n",
       "      <td>River, el más grande siempre</td>\n",
       "      <td>Marcelo Altmark, Mariano Mucci, Luis A. Scalella</td>\n",
       "      <td>NO DATA</td>\n",
       "      <td>2019</td>\n",
       "      <td>105 min</td>\n",
       "      <td>Documentaries, International Movies, Sports Mo...</td>\n",
       "      <td>Experience the highlights of Argentine soccer ...</td>\n",
       "      <td>2019-07-05</td>\n",
       "      <td>2019</td>\n",
       "      <td>7</td>\n",
       "      <td>July</td>\n",
       "    </tr>\n",
       "    <tr>\n",
       "      <td>TV-MA</td>\n",
       "      <td>s93</td>\n",
       "      <td>Movie</td>\n",
       "      <td>27, el club de los malditos</td>\n",
       "      <td>Nicanor Loreti</td>\n",
       "      <td>Diego Capusotto, Sofía Gala, Daniel Aráoz, Wil...</td>\n",
       "      <td>2018</td>\n",
       "      <td>82 min</td>\n",
       "      <td>Action &amp; Adventure, Comedies, International Mo...</td>\n",
       "      <td>After a musician dies under suspicious circums...</td>\n",
       "      <td>2018-05-01</td>\n",
       "      <td>2018</td>\n",
       "      <td>5</td>\n",
       "      <td>May</td>\n",
       "    </tr>\n",
       "    <tr>\n",
       "      <td>...</td>\n",
       "      <td>...</td>\n",
       "      <td>...</td>\n",
       "      <td>...</td>\n",
       "      <td>...</td>\n",
       "      <td>...</td>\n",
       "      <td>...</td>\n",
       "      <td>...</td>\n",
       "      <td>...</td>\n",
       "      <td>...</td>\n",
       "      <td>...</td>\n",
       "      <td>...</td>\n",
       "      <td>...</td>\n",
       "      <td>...</td>\n",
       "      <td>...</td>\n",
       "    </tr>\n",
       "    <tr>\n",
       "      <td rowspan=\"3\" valign=\"top\">Vietnam</td>\n",
       "      <td>TV-14</td>\n",
       "      <td>s940</td>\n",
       "      <td>Movie</td>\n",
       "      <td>Bitcoin Heist</td>\n",
       "      <td>Ham Tran</td>\n",
       "      <td>Kate Nhung, Thanh Pham, Petey Majik Nguyen, Su...</td>\n",
       "      <td>2016</td>\n",
       "      <td>116 min</td>\n",
       "      <td>Action &amp; Adventure, Comedies, International Mo...</td>\n",
       "      <td>A unconventional, efficient Interpol special a...</td>\n",
       "      <td>2017-09-02</td>\n",
       "      <td>2017</td>\n",
       "      <td>9</td>\n",
       "      <td>September</td>\n",
       "    </tr>\n",
       "    <tr>\n",
       "      <td>TV-G</td>\n",
       "      <td>s5655</td>\n",
       "      <td>Movie</td>\n",
       "      <td>Sky Tour: The Movie</td>\n",
       "      <td>Nguyen Thanh Tung</td>\n",
       "      <td>Son Tung M-TP</td>\n",
       "      <td>2020</td>\n",
       "      <td>93 min</td>\n",
       "      <td>Documentaries, International Movies, Music &amp; M...</td>\n",
       "      <td>From the preparations to the performances, thi...</td>\n",
       "      <td>2020-09-02</td>\n",
       "      <td>2020</td>\n",
       "      <td>9</td>\n",
       "      <td>September</td>\n",
       "    </tr>\n",
       "    <tr>\n",
       "      <td>TV-MA</td>\n",
       "      <td>s1483</td>\n",
       "      <td>Movie</td>\n",
       "      <td>Conjuring Spirit</td>\n",
       "      <td>Van M. Pham</td>\n",
       "      <td>Phuong Mai, Quang Su, Hoang Phuc Nguyen, Chi P...</td>\n",
       "      <td>2014</td>\n",
       "      <td>112 min</td>\n",
       "      <td>Horror Movies, International Movies, Thrillers</td>\n",
       "      <td>In the wake of her husband's betrayal, a novel...</td>\n",
       "      <td>2018-08-28</td>\n",
       "      <td>2018</td>\n",
       "      <td>8</td>\n",
       "      <td>August</td>\n",
       "    </tr>\n",
       "    <tr>\n",
       "      <td>West Germany</td>\n",
       "      <td>TV-MA</td>\n",
       "      <td>s2758</td>\n",
       "      <td>Movie</td>\n",
       "      <td>Hitler - A Career</td>\n",
       "      <td>Joachim Fest, Christian Herrendoerfer</td>\n",
       "      <td>NO DATA</td>\n",
       "      <td>1977</td>\n",
       "      <td>150 min</td>\n",
       "      <td>Documentaries, International Movies</td>\n",
       "      <td>This documentary examines how Adolf Hitler's t...</td>\n",
       "      <td>2017-02-10</td>\n",
       "      <td>2017</td>\n",
       "      <td>2</td>\n",
       "      <td>February</td>\n",
       "    </tr>\n",
       "    <tr>\n",
       "      <td>Zimbabwe</td>\n",
       "      <td>TV-G</td>\n",
       "      <td>s1494</td>\n",
       "      <td>Movie</td>\n",
       "      <td>Cook Off</td>\n",
       "      <td>Tomas Brickhill</td>\n",
       "      <td>Tendaiishe Chitima, Tendai Nguni, Jesese Mungo...</td>\n",
       "      <td>2017</td>\n",
       "      <td>100 min</td>\n",
       "      <td>Comedies, International Movies, Romantic Movies</td>\n",
       "      <td>Yearning for a better life, a single mother wi...</td>\n",
       "      <td>2020-06-01</td>\n",
       "      <td>2020</td>\n",
       "      <td>6</td>\n",
       "      <td>June</td>\n",
       "    </tr>\n",
       "  </tbody>\n",
       "</table>\n",
       "<p>1076 rows × 13 columns</p>\n",
       "</div>"
      ],
      "text/plain": [
       "                    show_id   type  \\\n",
       "country      rating                  \n",
       "Argentina    NR       s1581  Movie   \n",
       "             R        s1376  Movie   \n",
       "             TV-14     s195  Movie   \n",
       "             TV-G     s5225  Movie   \n",
       "             TV-MA      s93  Movie   \n",
       "...                     ...    ...   \n",
       "Vietnam      TV-14     s940  Movie   \n",
       "             TV-G     s5655  Movie   \n",
       "             TV-MA    s1483  Movie   \n",
       "West Germany TV-MA    s2758  Movie   \n",
       "Zimbabwe     TV-G     s1494  Movie   \n",
       "\n",
       "                                                             title  \\\n",
       "country      rating                                                  \n",
       "Argentina    NR                                          Daemonium   \n",
       "             R                              Chronicle of an Escape   \n",
       "             TV-14   A Life of Speed: The Juan Manuel Fangio Story   \n",
       "             TV-G                     River, el más grande siempre   \n",
       "             TV-MA                     27, el club de los malditos   \n",
       "...                                                            ...   \n",
       "Vietnam      TV-14                                   Bitcoin Heist   \n",
       "             TV-G                              Sky Tour: The Movie   \n",
       "             TV-MA                                Conjuring Spirit   \n",
       "West Germany TV-MA                               Hitler - A Career   \n",
       "Zimbabwe     TV-G                                         Cook Off   \n",
       "\n",
       "                                                             director  \\\n",
       "country      rating                                                     \n",
       "Argentina    NR                                           Pablo Parés   \n",
       "             R                                  Israel Adrián Caetano   \n",
       "             TV-14                                    Francisco Macri   \n",
       "             TV-G    Marcelo Altmark, Mariano Mucci, Luis A. Scalella   \n",
       "             TV-MA                                     Nicanor Loreti   \n",
       "...                                                               ...   \n",
       "Vietnam      TV-14                                           Ham Tran   \n",
       "             TV-G                                   Nguyen Thanh Tung   \n",
       "             TV-MA                                        Van M. Pham   \n",
       "West Germany TV-MA              Joachim Fest, Christian Herrendoerfer   \n",
       "Zimbabwe     TV-G                                     Tomas Brickhill   \n",
       "\n",
       "                                                                  cast  \\\n",
       "country      rating                                                      \n",
       "Argentina    NR      Walter Cornás, Dany Casco, Caro Angus, Rocío R...   \n",
       "             R       Rodrigo de la Serna, Pablo Echarri, Nazareno C...   \n",
       "             TV-14                                             NO DATA   \n",
       "             TV-G                                              NO DATA   \n",
       "             TV-MA   Diego Capusotto, Sofía Gala, Daniel Aráoz, Wil...   \n",
       "...                                                                ...   \n",
       "Vietnam      TV-14   Kate Nhung, Thanh Pham, Petey Majik Nguyen, Su...   \n",
       "             TV-G                                        Son Tung M-TP   \n",
       "             TV-MA   Phuong Mai, Quang Su, Hoang Phuc Nguyen, Chi P...   \n",
       "West Germany TV-MA                                             NO DATA   \n",
       "Zimbabwe     TV-G    Tendaiishe Chitima, Tendai Nguni, Jesese Mungo...   \n",
       "\n",
       "                     release_year duration  \\\n",
       "country      rating                          \n",
       "Argentina    NR              2015  115 min   \n",
       "             R               2006  104 min   \n",
       "             TV-14           2020   93 min   \n",
       "             TV-G            2019  105 min   \n",
       "             TV-MA           2018   82 min   \n",
       "...                           ...      ...   \n",
       "Vietnam      TV-14           2016  116 min   \n",
       "             TV-G            2020   93 min   \n",
       "             TV-MA           2014  112 min   \n",
       "West Germany TV-MA           1977  150 min   \n",
       "Zimbabwe     TV-G            2017  100 min   \n",
       "\n",
       "                                                             listed_in  \\\n",
       "country      rating                                                      \n",
       "Argentina    NR      Action & Adventure, Horror Movies, Internation...   \n",
       "             R                 Dramas, International Movies, Thrillers   \n",
       "             TV-14   Documentaries, International Movies, Sports Mo...   \n",
       "             TV-G    Documentaries, International Movies, Sports Mo...   \n",
       "             TV-MA   Action & Adventure, Comedies, International Mo...   \n",
       "...                                                                ...   \n",
       "Vietnam      TV-14   Action & Adventure, Comedies, International Mo...   \n",
       "             TV-G    Documentaries, International Movies, Music & M...   \n",
       "             TV-MA      Horror Movies, International Movies, Thrillers   \n",
       "West Germany TV-MA                 Documentaries, International Movies   \n",
       "Zimbabwe     TV-G      Comedies, International Movies, Romantic Movies   \n",
       "\n",
       "                                                           description  \\\n",
       "country      rating                                                      \n",
       "Argentina    NR      In a realm where magic and technology intersec...   \n",
       "             R       Soccer goalie Claudio Tamburrini is kidnapped ...   \n",
       "             TV-14   Juan Manuel Fangio was the Formula One king, w...   \n",
       "             TV-G    Experience the highlights of Argentine soccer ...   \n",
       "             TV-MA   After a musician dies under suspicious circums...   \n",
       "...                                                                ...   \n",
       "Vietnam      TV-14   A unconventional, efficient Interpol special a...   \n",
       "             TV-G    From the preparations to the performances, thi...   \n",
       "             TV-MA   In the wake of her husband's betrayal, a novel...   \n",
       "West Germany TV-MA   This documentary examines how Adolf Hitler's t...   \n",
       "Zimbabwe     TV-G    Yearning for a better life, a single mother wi...   \n",
       "\n",
       "                    Data_new_added  year_add  month_add month_add_name  \n",
       "country      rating                                                     \n",
       "Argentina    NR         2016-12-20      2016         12       December  \n",
       "             R          2018-06-15      2018          6           June  \n",
       "             TV-14      2020-03-20      2020          3          March  \n",
       "             TV-G       2019-07-05      2019          7           July  \n",
       "             TV-MA      2018-05-01      2018          5            May  \n",
       "...                            ...       ...        ...            ...  \n",
       "Vietnam      TV-14      2017-09-02      2017          9      September  \n",
       "             TV-G       2020-09-02      2020          9      September  \n",
       "             TV-MA      2018-08-28      2018          8         August  \n",
       "West Germany TV-MA      2017-02-10      2017          2       February  \n",
       "Zimbabwe     TV-G       2020-06-01      2020          6           June  \n",
       "\n",
       "[1076 rows x 13 columns]"
      ]
     },
     "execution_count": 21,
     "metadata": {},
     "output_type": "execute_result"
    }
   ],
   "source": [
    "df.groupby(['country','rating']).first()"
   ]
  },
  {
   "cell_type": "code",
   "execution_count": 22,
   "metadata": {},
   "outputs": [
    {
     "name": "stdout",
     "output_type": "stream",
     "text": [
      "Movie     0.69\n",
      "TV Show   0.31\n",
      "Name: type, dtype: float64\n"
     ]
    },
    {
     "data": {
      "text/plain": [
       "<matplotlib.axes._subplots.AxesSubplot at 0x21611c5f9c8>"
      ]
     },
     "execution_count": 22,
     "metadata": {},
     "output_type": "execute_result"
    },
    {
     "data": {
      "image/png": "[encoded data removed]",
      "text/plain": [
       "<Figure size 432x288 with 1 Axes>"
      ]
     },
     "metadata": {
      "needs_background": "light"
     },
     "output_type": "display_data"
    }
   ],
   "source": [
    "print(df['type'].value_counts()/ df.shape[0] )\n",
    "##MOVIE --- 0.69\n",
    "##TV_SHOW----0.31\n",
    "\n",
    "sns.countplot(df['type'])"
   ]
  },
  {
   "cell_type": "code",
   "execution_count": 23,
   "metadata": {},
   "outputs": [
    {
     "data": {
      "text/html": [
       "<div>\n",
       "<style scoped>\n",
       "    .dataframe tbody tr th:only-of-type {\n",
       "        vertical-align: middle;\n",
       "    }\n",
       "\n",
       "    .dataframe tbody tr th {\n",
       "        vertical-align: top;\n",
       "    }\n",
       "\n",
       "    .dataframe thead th {\n",
       "        text-align: right;\n",
       "    }\n",
       "</style>\n",
       "<table border=\"1\" class=\"dataframe\">\n",
       "  <thead>\n",
       "    <tr style=\"text-align: right;\">\n",
       "      <th></th>\n",
       "      <th>release_year</th>\n",
       "      <th>year_add</th>\n",
       "      <th>month_add</th>\n",
       "    </tr>\n",
       "    <tr>\n",
       "      <th>type</th>\n",
       "      <th></th>\n",
       "      <th></th>\n",
       "      <th></th>\n",
       "    </tr>\n",
       "  </thead>\n",
       "  <tbody>\n",
       "    <tr>\n",
       "      <td>Movie</td>\n",
       "      <td>2,012.92</td>\n",
       "      <td>2,018.48</td>\n",
       "      <td>6.71</td>\n",
       "    </tr>\n",
       "    <tr>\n",
       "      <td>TV Show</td>\n",
       "      <td>2,016.19</td>\n",
       "      <td>2,018.53</td>\n",
       "      <td>6.92</td>\n",
       "    </tr>\n",
       "  </tbody>\n",
       "</table>\n",
       "</div>"
      ],
      "text/plain": [
       "         release_year  year_add  month_add\n",
       "type                                      \n",
       "Movie        2,012.92  2,018.48       6.71\n",
       "TV Show      2,016.19  2,018.53       6.92"
      ]
     },
     "execution_count": 23,
     "metadata": {},
     "output_type": "execute_result"
    }
   ],
   "source": [
    "\"\"\"\n",
    "ساختن گروه با type :\n",
    "میانگین فیلم ها 2012 و شوی تلویزیونی 2016 است، اما نکته ی \n",
    "خیلی عجیب ماه 6 که به سمت تابستان میرود بیشترین\n",
    "فیلم ها یا میانگینی از تمامی آنها ساخته شده است.\n",
    "\n",
    "\"\"\"\n",
    "df.groupby('type').mean()"
   ]
  },
  {
   "cell_type": "code",
   "execution_count": 24,
   "metadata": {},
   "outputs": [
    {
     "data": {
      "text/html": [
       "<div>\n",
       "<style scoped>\n",
       "    .dataframe tbody tr th:only-of-type {\n",
       "        vertical-align: middle;\n",
       "    }\n",
       "\n",
       "    .dataframe tbody tr th {\n",
       "        vertical-align: top;\n",
       "    }\n",
       "\n",
       "    .dataframe thead tr th {\n",
       "        text-align: left;\n",
       "    }\n",
       "\n",
       "    .dataframe thead tr:last-of-type th {\n",
       "        text-align: right;\n",
       "    }\n",
       "</style>\n",
       "<table border=\"1\" class=\"dataframe\">\n",
       "  <thead>\n",
       "    <tr>\n",
       "      <th></th>\n",
       "      <th></th>\n",
       "      <th>release_year</th>\n",
       "      <th>year_add</th>\n",
       "      <th>month_add</th>\n",
       "    </tr>\n",
       "    <tr>\n",
       "      <th></th>\n",
       "      <th></th>\n",
       "      <th>mean</th>\n",
       "      <th>mean</th>\n",
       "      <th>mean</th>\n",
       "    </tr>\n",
       "    <tr>\n",
       "      <th>type</th>\n",
       "      <th>rating</th>\n",
       "      <th></th>\n",
       "      <th></th>\n",
       "      <th></th>\n",
       "    </tr>\n",
       "  </thead>\n",
       "  <tbody>\n",
       "    <tr>\n",
       "      <td rowspan=\"14\" valign=\"top\">Movie</td>\n",
       "      <td>G</td>\n",
       "      <td>1,998.41</td>\n",
       "      <td>2,018.41</td>\n",
       "      <td>5.44</td>\n",
       "    </tr>\n",
       "    <tr>\n",
       "      <td>NC-17</td>\n",
       "      <td>2,015.00</td>\n",
       "      <td>2,017.33</td>\n",
       "      <td>6.00</td>\n",
       "    </tr>\n",
       "    <tr>\n",
       "      <td>NR</td>\n",
       "      <td>2,010.56</td>\n",
       "      <td>2,016.58</td>\n",
       "      <td>6.53</td>\n",
       "    </tr>\n",
       "    <tr>\n",
       "      <td>PG</td>\n",
       "      <td>2,008.94</td>\n",
       "      <td>2,018.95</td>\n",
       "      <td>6.23</td>\n",
       "    </tr>\n",
       "    <tr>\n",
       "      <td>PG-13</td>\n",
       "      <td>2,009.32</td>\n",
       "      <td>2,019.10</td>\n",
       "      <td>6.80</td>\n",
       "    </tr>\n",
       "    <tr>\n",
       "      <td>R</td>\n",
       "      <td>2,010.59</td>\n",
       "      <td>2,018.89</td>\n",
       "      <td>6.50</td>\n",
       "    </tr>\n",
       "    <tr>\n",
       "      <td>TV-14</td>\n",
       "      <td>2,012.09</td>\n",
       "      <td>2,018.50</td>\n",
       "      <td>6.85</td>\n",
       "    </tr>\n",
       "    <tr>\n",
       "      <td>TV-G</td>\n",
       "      <td>2,015.83</td>\n",
       "      <td>2,018.63</td>\n",
       "      <td>7.14</td>\n",
       "    </tr>\n",
       "    <tr>\n",
       "      <td>TV-MA</td>\n",
       "      <td>2,015.71</td>\n",
       "      <td>2,018.29</td>\n",
       "      <td>6.62</td>\n",
       "    </tr>\n",
       "    <tr>\n",
       "      <td>TV-PG</td>\n",
       "      <td>2,012.02</td>\n",
       "      <td>2,018.19</td>\n",
       "      <td>6.94</td>\n",
       "    </tr>\n",
       "    <tr>\n",
       "      <td>TV-Y</td>\n",
       "      <td>2,017.20</td>\n",
       "      <td>2,018.75</td>\n",
       "      <td>8.29</td>\n",
       "    </tr>\n",
       "    <tr>\n",
       "      <td>TV-Y7</td>\n",
       "      <td>2,015.44</td>\n",
       "      <td>2,018.12</td>\n",
       "      <td>6.07</td>\n",
       "    </tr>\n",
       "    <tr>\n",
       "      <td>TV-Y7-FV</td>\n",
       "      <td>2,015.00</td>\n",
       "      <td>2,017.00</td>\n",
       "      <td>7.00</td>\n",
       "    </tr>\n",
       "    <tr>\n",
       "      <td>UR</td>\n",
       "      <td>2,002.40</td>\n",
       "      <td>2,018.60</td>\n",
       "      <td>7.40</td>\n",
       "    </tr>\n",
       "    <tr>\n",
       "      <td rowspan=\"9\" valign=\"top\">TV Show</td>\n",
       "      <td>NR</td>\n",
       "      <td>2,011.60</td>\n",
       "      <td>2,016.80</td>\n",
       "      <td>4.80</td>\n",
       "    </tr>\n",
       "    <tr>\n",
       "      <td>R</td>\n",
       "      <td>2,015.50</td>\n",
       "      <td>2,017.50</td>\n",
       "      <td>8.00</td>\n",
       "    </tr>\n",
       "    <tr>\n",
       "      <td>TV-14</td>\n",
       "      <td>2,015.17</td>\n",
       "      <td>2,018.36</td>\n",
       "      <td>7.05</td>\n",
       "    </tr>\n",
       "    <tr>\n",
       "      <td>TV-G</td>\n",
       "      <td>2,014.04</td>\n",
       "      <td>2,018.61</td>\n",
       "      <td>7.04</td>\n",
       "    </tr>\n",
       "    <tr>\n",
       "      <td>TV-MA</td>\n",
       "      <td>2,017.55</td>\n",
       "      <td>2,018.75</td>\n",
       "      <td>6.76</td>\n",
       "    </tr>\n",
       "    <tr>\n",
       "      <td>TV-PG</td>\n",
       "      <td>2,015.00</td>\n",
       "      <td>2,018.21</td>\n",
       "      <td>7.32</td>\n",
       "    </tr>\n",
       "    <tr>\n",
       "      <td>TV-Y</td>\n",
       "      <td>2,016.74</td>\n",
       "      <td>2,018.80</td>\n",
       "      <td>7.16</td>\n",
       "    </tr>\n",
       "    <tr>\n",
       "      <td>TV-Y7</td>\n",
       "      <td>2,014.82</td>\n",
       "      <td>2,018.20</td>\n",
       "      <td>6.43</td>\n",
       "    </tr>\n",
       "    <tr>\n",
       "      <td>TV-Y7-FV</td>\n",
       "      <td>2,014.00</td>\n",
       "      <td>2,015.00</td>\n",
       "      <td>5.00</td>\n",
       "    </tr>\n",
       "  </tbody>\n",
       "</table>\n",
       "</div>"
      ],
      "text/plain": [
       "                 release_year year_add month_add\n",
       "                         mean     mean      mean\n",
       "type    rating                                  \n",
       "Movie   G            1,998.41 2,018.41      5.44\n",
       "        NC-17        2,015.00 2,017.33      6.00\n",
       "        NR           2,010.56 2,016.58      6.53\n",
       "        PG           2,008.94 2,018.95      6.23\n",
       "        PG-13        2,009.32 2,019.10      6.80\n",
       "        R            2,010.59 2,018.89      6.50\n",
       "        TV-14        2,012.09 2,018.50      6.85\n",
       "        TV-G         2,015.83 2,018.63      7.14\n",
       "        TV-MA        2,015.71 2,018.29      6.62\n",
       "        TV-PG        2,012.02 2,018.19      6.94\n",
       "        TV-Y         2,017.20 2,018.75      8.29\n",
       "        TV-Y7        2,015.44 2,018.12      6.07\n",
       "        TV-Y7-FV     2,015.00 2,017.00      7.00\n",
       "        UR           2,002.40 2,018.60      7.40\n",
       "TV Show NR           2,011.60 2,016.80      4.80\n",
       "        R            2,015.50 2,017.50      8.00\n",
       "        TV-14        2,015.17 2,018.36      7.05\n",
       "        TV-G         2,014.04 2,018.61      7.04\n",
       "        TV-MA        2,017.55 2,018.75      6.76\n",
       "        TV-PG        2,015.00 2,018.21      7.32\n",
       "        TV-Y         2,016.74 2,018.80      7.16\n",
       "        TV-Y7        2,014.82 2,018.20      6.43\n",
       "        TV-Y7-FV     2,014.00 2,015.00      5.00"
      ]
     },
     "execution_count": 24,
     "metadata": {},
     "output_type": "execute_result"
    }
   ],
   "source": [
    "df.groupby(['type','rating']).agg(['mean'])"
   ]
  },
  {
   "cell_type": "code",
   "execution_count": 25,
   "metadata": {},
   "outputs": [
    {
     "name": "stdout",
     "output_type": "stream",
     "text": [
      "TV-MA      36.86\n",
      "TV-14      24.80\n",
      "TV-PG      10.35\n",
      "R           8.54\n",
      "PG-13       4.96\n",
      "TV-Y        3.60\n",
      "TV-Y7       3.48\n",
      "PG          3.17\n",
      "TV-G        2.49\n",
      "NR          1.08\n",
      "G           0.50\n",
      "TV-Y7-FV    0.08\n",
      "UR          0.06\n",
      "NC-17       0.04\n",
      "Name: rating, dtype: float64\n"
     ]
    }
   ],
   "source": [
    "df['rating'].value_counts()\n",
    "\n",
    "print(df['rating'].value_counts()/ df.shape[0] * 100)"
   ]
  },
  {
   "cell_type": "code",
   "execution_count": 26,
   "metadata": {},
   "outputs": [
    {
     "data": {
      "text/plain": [
       "7787"
      ]
     },
     "execution_count": 26,
     "metadata": {},
     "output_type": "execute_result"
    }
   ],
   "source": [
    "df.shape[0]"
   ]
  },
  {
   "cell_type": "code",
   "execution_count": 46,
   "metadata": {},
   "outputs": [
    {
     "data": {
      "text/plain": [
       "<matplotlib.axes._subplots.AxesSubplot at 0x2161c8a43c8>"
      ]
     },
     "execution_count": 46,
     "metadata": {},
     "output_type": "execute_result"
    },
    {
     "data": {
      "image/png": "[encoded data removed]",
      "text/plain": [
       "<Figure size 864x360 with 1 Axes>"
      ]
     },
     "metadata": {},
     "output_type": "display_data"
    }
   ],
   "source": [
    "fig = plt.figure(figsize=(12,5))\n",
    "sns.countplot(x='rating',data=df, hue='type',palette=['red','black'])"
   ]
  },
  {
   "cell_type": "code",
   "execution_count": 27,
   "metadata": {},
   "outputs": [
    {
     "data": {
      "text/html": [
       "<div>\n",
       "<style scoped>\n",
       "    .dataframe tbody tr th:only-of-type {\n",
       "        vertical-align: middle;\n",
       "    }\n",
       "\n",
       "    .dataframe tbody tr th {\n",
       "        vertical-align: top;\n",
       "    }\n",
       "\n",
       "    .dataframe thead th {\n",
       "        text-align: right;\n",
       "    }\n",
       "</style>\n",
       "<table border=\"1\" class=\"dataframe\">\n",
       "  <thead>\n",
       "    <tr style=\"text-align: right;\">\n",
       "      <th></th>\n",
       "      <th>show_id</th>\n",
       "      <th>type</th>\n",
       "      <th>title</th>\n",
       "      <th>director</th>\n",
       "      <th>cast</th>\n",
       "      <th>country</th>\n",
       "      <th>release_year</th>\n",
       "      <th>rating</th>\n",
       "      <th>duration</th>\n",
       "      <th>listed_in</th>\n",
       "      <th>description</th>\n",
       "      <th>Data_new_added</th>\n",
       "      <th>year_add</th>\n",
       "      <th>month_add</th>\n",
       "      <th>month_add_name</th>\n",
       "    </tr>\n",
       "  </thead>\n",
       "  <tbody>\n",
       "    <tr>\n",
       "      <td>1919</td>\n",
       "      <td>s1920</td>\n",
       "      <td>Movie</td>\n",
       "      <td>Eddie Murphy: Raw</td>\n",
       "      <td>Robert Townsend</td>\n",
       "      <td>Eddie Murphy</td>\n",
       "      <td>United States</td>\n",
       "      <td>1987</td>\n",
       "      <td>R</td>\n",
       "      <td>90 min</td>\n",
       "      <td>Stand-Up Comedy</td>\n",
       "      <td>This stand-up comedy classic features Eddie Mu...</td>\n",
       "      <td>2021-01-01</td>\n",
       "      <td>2021</td>\n",
       "      <td>1</td>\n",
       "      <td>January</td>\n",
       "    </tr>\n",
       "    <tr>\n",
       "      <td>6769</td>\n",
       "      <td>s6770</td>\n",
       "      <td>Movie</td>\n",
       "      <td>The Polar Express</td>\n",
       "      <td>Robert Zemeckis</td>\n",
       "      <td>Tom Hanks, Leslie Zemeckis, Eddie Deezen, Nona...</td>\n",
       "      <td>United States</td>\n",
       "      <td>2004</td>\n",
       "      <td>G</td>\n",
       "      <td>100 min</td>\n",
       "      <td>Children &amp; Family Movies</td>\n",
       "      <td>In this warm-hearted tale, a young boy's faith...</td>\n",
       "      <td>2021-01-01</td>\n",
       "      <td>2021</td>\n",
       "      <td>1</td>\n",
       "      <td>January</td>\n",
       "    </tr>\n",
       "    <tr>\n",
       "      <td>6697</td>\n",
       "      <td>s6698</td>\n",
       "      <td>Movie</td>\n",
       "      <td>The Naked Gun: From the Files of Police Squad!</td>\n",
       "      <td>David Zucker</td>\n",
       "      <td>Leslie Nielsen, Priscilla Presley, George Kenn...</td>\n",
       "      <td>United States</td>\n",
       "      <td>1988</td>\n",
       "      <td>PG-13</td>\n",
       "      <td>85 min</td>\n",
       "      <td>Comedies, Cult Movies</td>\n",
       "      <td>Hapless cop Frank Drebin causes more problems ...</td>\n",
       "      <td>2021-01-01</td>\n",
       "      <td>2021</td>\n",
       "      <td>1</td>\n",
       "      <td>January</td>\n",
       "    </tr>\n",
       "    <tr>\n",
       "      <td>2493</td>\n",
       "      <td>s2494</td>\n",
       "      <td>Movie</td>\n",
       "      <td>GoodFellas</td>\n",
       "      <td>Martin Scorsese</td>\n",
       "      <td>Robert De Niro, Ray Liotta, Joe Pesci, Lorrain...</td>\n",
       "      <td>United States</td>\n",
       "      <td>1990</td>\n",
       "      <td>R</td>\n",
       "      <td>145 min</td>\n",
       "      <td>Classic Movies, Dramas</td>\n",
       "      <td>Former mobster Henry Hill recounts his colorfu...</td>\n",
       "      <td>2021-01-01</td>\n",
       "      <td>2021</td>\n",
       "      <td>1</td>\n",
       "      <td>January</td>\n",
       "    </tr>\n",
       "    <tr>\n",
       "      <td>1004</td>\n",
       "      <td>s1005</td>\n",
       "      <td>Movie</td>\n",
       "      <td>BluffMaster!</td>\n",
       "      <td>Rohan Sippy</td>\n",
       "      <td>Abhishek Bachchan, Priyanka Chopra, Riteish De...</td>\n",
       "      <td>India</td>\n",
       "      <td>2005</td>\n",
       "      <td>TV-14</td>\n",
       "      <td>129 min</td>\n",
       "      <td>Comedies, International Movies, Romantic Movies</td>\n",
       "      <td>When his girlfriend learns the truth about his...</td>\n",
       "      <td>2021-01-08</td>\n",
       "      <td>2021</td>\n",
       "      <td>1</td>\n",
       "      <td>January</td>\n",
       "    </tr>\n",
       "    <tr>\n",
       "      <td>...</td>\n",
       "      <td>...</td>\n",
       "      <td>...</td>\n",
       "      <td>...</td>\n",
       "      <td>...</td>\n",
       "      <td>...</td>\n",
       "      <td>...</td>\n",
       "      <td>...</td>\n",
       "      <td>...</td>\n",
       "      <td>...</td>\n",
       "      <td>...</td>\n",
       "      <td>...</td>\n",
       "      <td>...</td>\n",
       "      <td>...</td>\n",
       "      <td>...</td>\n",
       "      <td>...</td>\n",
       "    </tr>\n",
       "    <tr>\n",
       "      <td>5832</td>\n",
       "      <td>s5833</td>\n",
       "      <td>Movie</td>\n",
       "      <td>Strange Voices</td>\n",
       "      <td>Arthur Allan Seidelman</td>\n",
       "      <td>Nancy McKeon, Valerie Harper, Stephen Macht, T...</td>\n",
       "      <td>United States</td>\n",
       "      <td>1987</td>\n",
       "      <td>TV-PG</td>\n",
       "      <td>96 min</td>\n",
       "      <td>Dramas</td>\n",
       "      <td>When their college-age daughter suddenly begin...</td>\n",
       "      <td>2011-10-01</td>\n",
       "      <td>2011</td>\n",
       "      <td>10</td>\n",
       "      <td>October</td>\n",
       "    </tr>\n",
       "    <tr>\n",
       "      <td>3840</td>\n",
       "      <td>s3841</td>\n",
       "      <td>Movie</td>\n",
       "      <td>Mad Ron's Prevues from Hell</td>\n",
       "      <td>Jim Monaco</td>\n",
       "      <td>Nick Pawlow, Jordu Schell, Jay Kushwara, Micha...</td>\n",
       "      <td>United States</td>\n",
       "      <td>1987</td>\n",
       "      <td>NR</td>\n",
       "      <td>84 min</td>\n",
       "      <td>Cult Movies, Horror Movies</td>\n",
       "      <td>This collection cherry-picks trailers, forgott...</td>\n",
       "      <td>2010-11-01</td>\n",
       "      <td>2010</td>\n",
       "      <td>11</td>\n",
       "      <td>November</td>\n",
       "    </tr>\n",
       "    <tr>\n",
       "      <td>3248</td>\n",
       "      <td>s3249</td>\n",
       "      <td>Movie</td>\n",
       "      <td>Just Another Love Story</td>\n",
       "      <td>Ole Bornedal</td>\n",
       "      <td>Anders W. Berthelsen, Rebecka Hemse, Nikolaj L...</td>\n",
       "      <td>Denmark</td>\n",
       "      <td>2007</td>\n",
       "      <td>TV-MA</td>\n",
       "      <td>104 min</td>\n",
       "      <td>Dramas, International Movies</td>\n",
       "      <td>When he causes a car accident that leaves a yo...</td>\n",
       "      <td>2009-05-05</td>\n",
       "      <td>2009</td>\n",
       "      <td>5</td>\n",
       "      <td>May</td>\n",
       "    </tr>\n",
       "    <tr>\n",
       "      <td>5765</td>\n",
       "      <td>s5766</td>\n",
       "      <td>Movie</td>\n",
       "      <td>Splatter</td>\n",
       "      <td>Joe Dante</td>\n",
       "      <td>Corey Feldman, Tony Todd, Tara Leigh, Erin Way...</td>\n",
       "      <td>United States</td>\n",
       "      <td>2009</td>\n",
       "      <td>TV-MA</td>\n",
       "      <td>29 min</td>\n",
       "      <td>Horror Movies</td>\n",
       "      <td>After committing suicide, a washed-up rocker r...</td>\n",
       "      <td>2009-11-18</td>\n",
       "      <td>2009</td>\n",
       "      <td>11</td>\n",
       "      <td>November</td>\n",
       "    </tr>\n",
       "    <tr>\n",
       "      <td>7113</td>\n",
       "      <td>s7114</td>\n",
       "      <td>Movie</td>\n",
       "      <td>To and From New York</td>\n",
       "      <td>Sorin Dan Mihalcescu</td>\n",
       "      <td>Barbara King, Shaana Diya, John Krisiukenas, Y...</td>\n",
       "      <td>United States</td>\n",
       "      <td>2006</td>\n",
       "      <td>TV-MA</td>\n",
       "      <td>81 min</td>\n",
       "      <td>Dramas, Independent Movies, Thrillers</td>\n",
       "      <td>While covering a story in New York City, a Sea...</td>\n",
       "      <td>2008-01-01</td>\n",
       "      <td>2008</td>\n",
       "      <td>1</td>\n",
       "      <td>January</td>\n",
       "    </tr>\n",
       "  </tbody>\n",
       "</table>\n",
       "<p>5377 rows × 15 columns</p>\n",
       "</div>"
      ],
      "text/plain": [
       "     show_id   type                                           title  \\\n",
       "1919   s1920  Movie                               Eddie Murphy: Raw   \n",
       "6769   s6770  Movie                               The Polar Express   \n",
       "6697   s6698  Movie  The Naked Gun: From the Files of Police Squad!   \n",
       "2493   s2494  Movie                                      GoodFellas   \n",
       "1004   s1005  Movie                                    BluffMaster!   \n",
       "...      ...    ...                                             ...   \n",
       "5832   s5833  Movie                                  Strange Voices   \n",
       "3840   s3841  Movie                     Mad Ron's Prevues from Hell   \n",
       "3248   s3249  Movie                         Just Another Love Story   \n",
       "5765   s5766  Movie                                        Splatter   \n",
       "7113   s7114  Movie                            To and From New York   \n",
       "\n",
       "                    director  \\\n",
       "1919         Robert Townsend   \n",
       "6769         Robert Zemeckis   \n",
       "6697            David Zucker   \n",
       "2493         Martin Scorsese   \n",
       "1004             Rohan Sippy   \n",
       "...                      ...   \n",
       "5832  Arthur Allan Seidelman   \n",
       "3840              Jim Monaco   \n",
       "3248            Ole Bornedal   \n",
       "5765               Joe Dante   \n",
       "7113    Sorin Dan Mihalcescu   \n",
       "\n",
       "                                                   cast        country  \\\n",
       "1919                                       Eddie Murphy  United States   \n",
       "6769  Tom Hanks, Leslie Zemeckis, Eddie Deezen, Nona...  United States   \n",
       "6697  Leslie Nielsen, Priscilla Presley, George Kenn...  United States   \n",
       "2493  Robert De Niro, Ray Liotta, Joe Pesci, Lorrain...  United States   \n",
       "1004  Abhishek Bachchan, Priyanka Chopra, Riteish De...          India   \n",
       "...                                                 ...            ...   \n",
       "5832  Nancy McKeon, Valerie Harper, Stephen Macht, T...  United States   \n",
       "3840  Nick Pawlow, Jordu Schell, Jay Kushwara, Micha...  United States   \n",
       "3248  Anders W. Berthelsen, Rebecka Hemse, Nikolaj L...        Denmark   \n",
       "5765  Corey Feldman, Tony Todd, Tara Leigh, Erin Way...  United States   \n",
       "7113  Barbara King, Shaana Diya, John Krisiukenas, Y...  United States   \n",
       "\n",
       "      release_year rating duration  \\\n",
       "1919          1987      R   90 min   \n",
       "6769          2004      G  100 min   \n",
       "6697          1988  PG-13   85 min   \n",
       "2493          1990      R  145 min   \n",
       "1004          2005  TV-14  129 min   \n",
       "...            ...    ...      ...   \n",
       "5832          1987  TV-PG   96 min   \n",
       "3840          1987     NR   84 min   \n",
       "3248          2007  TV-MA  104 min   \n",
       "5765          2009  TV-MA   29 min   \n",
       "7113          2006  TV-MA   81 min   \n",
       "\n",
       "                                            listed_in  \\\n",
       "1919                                  Stand-Up Comedy   \n",
       "6769                         Children & Family Movies   \n",
       "6697                            Comedies, Cult Movies   \n",
       "2493                           Classic Movies, Dramas   \n",
       "1004  Comedies, International Movies, Romantic Movies   \n",
       "...                                               ...   \n",
       "5832                                           Dramas   \n",
       "3840                       Cult Movies, Horror Movies   \n",
       "3248                     Dramas, International Movies   \n",
       "5765                                    Horror Movies   \n",
       "7113            Dramas, Independent Movies, Thrillers   \n",
       "\n",
       "                                            description Data_new_added  \\\n",
       "1919  This stand-up comedy classic features Eddie Mu...     2021-01-01   \n",
       "6769  In this warm-hearted tale, a young boy's faith...     2021-01-01   \n",
       "6697  Hapless cop Frank Drebin causes more problems ...     2021-01-01   \n",
       "2493  Former mobster Henry Hill recounts his colorfu...     2021-01-01   \n",
       "1004  When his girlfriend learns the truth about his...     2021-01-08   \n",
       "...                                                 ...            ...   \n",
       "5832  When their college-age daughter suddenly begin...     2011-10-01   \n",
       "3840  This collection cherry-picks trailers, forgott...     2010-11-01   \n",
       "3248  When he causes a car accident that leaves a yo...     2009-05-05   \n",
       "5765  After committing suicide, a washed-up rocker r...     2009-11-18   \n",
       "7113  While covering a story in New York City, a Sea...     2008-01-01   \n",
       "\n",
       "      year_add  month_add month_add_name  \n",
       "1919      2021          1        January  \n",
       "6769      2021          1        January  \n",
       "6697      2021          1        January  \n",
       "2493      2021          1        January  \n",
       "1004      2021          1        January  \n",
       "...        ...        ...            ...  \n",
       "5832      2011         10        October  \n",
       "3840      2010         11       November  \n",
       "3248      2009          5            May  \n",
       "5765      2009         11       November  \n",
       "7113      2008          1        January  \n",
       "\n",
       "[5377 rows x 15 columns]"
      ]
     },
     "execution_count": 27,
     "metadata": {},
     "output_type": "execute_result"
    }
   ],
   "source": [
    "df[df['type']=='Movie'].sort_values(by='year_add',ascending=False)"
   ]
  },
  {
   "cell_type": "code",
   "execution_count": 28,
   "metadata": {},
   "outputs": [
    {
     "name": "stdout",
     "output_type": "stream",
     "text": [
      "United States    0.27\n",
      "India            0.11\n",
      "United Kingdom   0.02\n",
      "Canada           0.02\n",
      "Spain            0.01\n",
      "Name: country, dtype: float64\n",
      "\n",
      "---------------------------------------------------\n",
      "United States    0.13\n",
      "United Kingdom   0.03\n",
      "Japan            0.02\n",
      "South Korea      0.02\n",
      "India            0.01\n",
      "Name: country, dtype: float64\n"
     ]
    }
   ],
   "source": [
    "print(df[df['type']=='Movie']['country'].value_counts().head(5)/df.shape[0])\n",
    "print('\\n---------------------------------------------------')\n",
    "print(df[df['type']=='TV Show']['country'].value_counts().head(5)/df.shape[0])"
   ]
  },
  {
   "cell_type": "markdown",
   "metadata": {},
   "source": [
    "from collections import Counter\n",
    "Counter(df[df['type']=='Movie']['country','']).most_common(10)"
   ]
  },
  {
   "cell_type": "code",
   "execution_count": 30,
   "metadata": {},
   "outputs": [
    {
     "data": {
      "text/plain": [
       "NO DATA                  0.31\n",
       "Raúl Campos, Jan Suter   0.00\n",
       "Marcus Raboy             0.00\n",
       "Jay Karas                0.00\n",
       "Cathy Garcia-Molina      0.00\n",
       "Name: director, dtype: float64"
      ]
     },
     "execution_count": 30,
     "metadata": {},
     "output_type": "execute_result"
    }
   ],
   "source": [
    "###director\n",
    "\n",
    "df['director'].value_counts().head(5)/df.shape[0]"
   ]
  },
  {
   "cell_type": "code",
   "execution_count": 34,
   "metadata": {},
   "outputs": [
    {
     "data": {
      "text/plain": [
       "Text(0, 0.5, 'country')"
      ]
     },
     "execution_count": 34,
     "metadata": {},
     "output_type": "execute_result"
    },
    {
     "data": {
      "image/png": "[encoded data removed]",
      "text/plain": [
       "<Figure size 864x576 with 1 Axes>"
      ]
     },
     "metadata": {},
     "output_type": "display_data"
    }
   ],
   "source": [
    "fig = plt.figure(figsize=(12,8))\n",
    "sns.set_style('whitegrid')\n",
    "x = df['country'].value_counts().head(10)\n",
    "ax = sns.barplot(x.values,x.index)\n",
    "ax.set_xlabel('content',fontsize=20)\n",
    "ax.set_ylabel('country',fontsize=20)"
   ]
  },
  {
   "cell_type": "code",
   "execution_count": 35,
   "metadata": {},
   "outputs": [
    {
     "data": {
      "text/plain": [
       "Text(0.5, 0, 'year')"
      ]
     },
     "execution_count": 35,
     "metadata": {},
     "output_type": "execute_result"
    },
    {
     "data": {
      "image/png": "[encoded data removed]",
      "text/plain": [
       "<Figure size 864x576 with 1 Axes>"
      ]
     },
     "metadata": {},
     "output_type": "display_data"
    }
   ],
   "source": [
    "fig = plt.figure(figsize=(12,8))\n",
    "sns.set_style('whitegrid')\n",
    "x = df['year_add'].value_counts()\n",
    "ax = sns.lineplot(y=x.values,x =x.index)\n",
    "ax.set_xlabel('year',fontsize=20)\n"
   ]
  },
  {
   "cell_type": "code",
   "execution_count": 36,
   "metadata": {},
   "outputs": [
    {
     "data": {
      "text/plain": [
       "Text(0, 0.5, 'direcector')"
      ]
     },
     "execution_count": 36,
     "metadata": {},
     "output_type": "execute_result"
    },
    {
     "data": {
      "image/png": "[encoded data removed]",
      "text/plain": [
       "<Figure size 864x576 with 1 Axes>"
      ]
     },
     "metadata": {},
     "output_type": "display_data"
    }
   ],
   "source": [
    "fig = plt.figure(figsize=(12,8))\n",
    "sns.set_style('whitegrid')\n",
    "x = df['director'].value_counts().head(5)\n",
    "ax = sns.barplot(x.values,x.index)\n",
    "ax.set_xlabel('content',fontsize=20)\n",
    "ax.set_ylabel('direcector',fontsize=20)"
   ]
  },
  {
   "cell_type": "code",
   "execution_count": 52,
   "metadata": {},
   "outputs": [
    {
     "data": {
      "text/plain": [
       "<matplotlib.axes._subplots.AxesSubplot at 0x2161c71df88>"
      ]
     },
     "execution_count": 52,
     "metadata": {},
     "output_type": "execute_result"
    },
    {
     "data": {
      "image/png": "[encoded data removed]",
      "text/plain": [
       "<Figure size 432x288 with 1 Axes>"
      ]
     },
     "metadata": {},
     "output_type": "display_data"
    }
   ],
   "source": [
    "sns.countplot(y=df['director'],order = df['director'].value_counts().index[:5])"
   ]
  },
  {
   "cell_type": "code",
   "execution_count": 39,
   "metadata": {},
   "outputs": [
    {
     "data": {
      "text/plain": [
       "NO DATA                   2389\n",
       "Raúl Campos, Jan Suter      18\n",
       "Marcus Raboy                16\n",
       "Jay Karas                   14\n",
       "Cathy Garcia-Molina         13\n",
       "Name: director, dtype: int64"
      ]
     },
     "execution_count": 39,
     "metadata": {},
     "output_type": "execute_result"
    }
   ],
   "source": [
    "df['director'].value_counts().head(5)"
   ]
  },
  {
   "cell_type": "markdown",
   "metadata": {},
   "source": [
    "# Rating"
   ]
  },
  {
   "cell_type": "code",
   "execution_count": 41,
   "metadata": {},
   "outputs": [
    {
     "data": {
      "text/plain": [
       "TV-MA       2870\n",
       "TV-14       1931\n",
       "TV-PG        806\n",
       "R            665\n",
       "PG-13        386\n",
       "TV-Y         280\n",
       "TV-Y7        271\n",
       "PG           247\n",
       "TV-G         194\n",
       "NR            84\n",
       "G             39\n",
       "TV-Y7-FV       6\n",
       "UR             5\n",
       "NC-17          3\n",
       "Name: rating, dtype: int64"
      ]
     },
     "execution_count": 41,
     "metadata": {},
     "output_type": "execute_result"
    }
   ],
   "source": [
    "df['rating'].value_counts()"
   ]
  },
  {
   "cell_type": "code",
   "execution_count": 55,
   "metadata": {},
   "outputs": [
    {
     "data": {
      "text/plain": [
       "Documentaries                                       334\n",
       "Stand-Up Comedy                                     321\n",
       "Dramas, International Movies                        320\n",
       "Comedies, Dramas, International Movies              243\n",
       "Dramas, Independent Movies, International Movies    215\n",
       "                                                   ... \n",
       "Anime Series, Kids' TV, TV Action & Adventure         1\n",
       "TV Action & Adventure                                 1\n",
       "Kids' TV, TV Dramas, Teen TV Shows                    1\n",
       "Kids' TV, TV Comedies, TV Sci-Fi & Fantasy            1\n",
       "Comedies, Cult Movies, Independent Movies             1\n",
       "Name: listed_in, Length: 492, dtype: int64"
      ]
     },
     "execution_count": 55,
     "metadata": {},
     "output_type": "execute_result"
    }
   ],
   "source": [
    "df['listed_in'].value_counts()"
   ]
  },
  {
   "cell_type": "code",
   "execution_count": 62,
   "metadata": {},
   "outputs": [],
   "source": [
    "genra = df.listed_in.str.split(', ',expand=True).stack()"
   ]
  },
  {
   "cell_type": "code",
   "execution_count": 67,
   "metadata": {},
   "outputs": [
    {
     "data": {
      "text/plain": [
       "<matplotlib.axes._subplots.AxesSubplot at 0x216234c4b48>"
      ]
     },
     "execution_count": 67,
     "metadata": {},
     "output_type": "execute_result"
    },
    {
     "data": {
      "image/png": "[encoded data removed]",
      "text/plain": [
       "<Figure size 432x288 with 1 Axes>"
      ]
     },
     "metadata": {},
     "output_type": "display_data"
    }
   ],
   "source": [
    "sns.countplot(y=genra,order=genra.value_counts().index[:10],palette=['red','black'])"
   ]
  },
  {
   "cell_type": "code",
   "execution_count": 72,
   "metadata": {},
   "outputs": [
    {
     "data": {
      "text/plain": [
       "International Movies           31.30\n",
       "Dramas                         27.05\n",
       "Comedies                       18.89\n",
       "International TV Shows         15.40\n",
       "Documentaries                  10.09\n",
       "Action & Adventure              9.26\n",
       "TV Dramas                       9.04\n",
       "Independent Movies              8.64\n",
       "Children & Family Movies        6.83\n",
       "Romantic Movies                 6.82\n",
       "TV Comedies                     6.74\n",
       "Thrillers                       6.31\n",
       "Crime TV Shows                  5.48\n",
       "Kids' TV                        5.32\n",
       "Docuseries                      4.53\n",
       "Romantic TV Shows               4.28\n",
       "Stand-Up Comedy                 4.22\n",
       "Music & Musicals                4.12\n",
       "Horror Movies                   4.01\n",
       "British TV Shows                2.98\n",
       "Reality TV                      2.85\n",
       "Sci-Fi & Fantasy                2.80\n",
       "Sports Movies                   2.52\n",
       "TV Action & Adventure           1.93\n",
       "Korean TV Shows                 1.93\n",
       "Anime Series                    1.90\n",
       "Spanish-Language TV Shows       1.89\n",
       "Classic Movies                  1.32\n",
       "LGBTQ Movies                    1.16\n",
       "TV Mysteries                    1.16\n",
       "Science & Nature TV             1.09\n",
       "TV Sci-Fi & Fantasy             0.98\n",
       "TV Horror                       0.89\n",
       "Teen TV Shows                   0.77\n",
       "Cult Movies                     0.76\n",
       "Faith & Spirituality            0.73\n",
       "Anime Features                  0.73\n",
       "Movies                          0.72\n",
       "Stand-Up Comedy & Talk Shows    0.67\n",
       "TV Thrillers                    0.64\n",
       "Classic & Cult TV               0.35\n",
       "TV Shows                        0.15\n",
       "dtype: float64"
      ]
     },
     "execution_count": 72,
     "metadata": {},
     "output_type": "execute_result"
    }
   ],
   "source": [
    "genra.value_counts()/df.shape[0] * 100"
   ]
  },
  {
   "cell_type": "code",
   "execution_count": 76,
   "metadata": {},
   "outputs": [
    {
     "ename": "KeyError",
     "evalue": "'Columns not found: \\'TV Sci-Fi & Fantasy\\', \\'Comedies\\', \\'Sports Movies\\', \\'Anime Features\\', \\'Movies\\', \\'Romantic Movies\\', \\'Thrillers\\', \\'Faith & Spirituality\\', \\'TV Thrillers\\', \\'Action & Adventure\\', \\'Cult Movies\\', \"Kids\\' TV\", \\'British TV Shows\\', \\'Music & Musicals\\', \\'Stand-Up Comedy\\', \\'Classic & Cult TV\\', \\'International Movies\\', \\'International TV Shows\\', \\'Children & Family Movies\\', \\'Romantic TV Shows\\', \\'Horror Movies\\', \\'Sci-Fi & Fantasy\\', \\'Anime Series\\', \\'Korean TV Shows\\', \\'TV Horror\\', \\'Docuseries\\', \\'TV Dramas\\', \\'Classic Movies\\', \\'Teen TV Shows\\', \\'Documentaries\\', \\'Science & Nature TV\\', \\'Spanish-Language TV Shows\\', \\'Crime TV Shows\\', \\'TV Mysteries\\', \\'TV Shows\\', \\'Independent Movies\\', \\'LGBTQ Movies\\', \\'Dramas\\', \\'TV Action & Adventure\\', \\'Stand-Up Comedy & Talk Shows\\', \\'TV Comedies\\', \\'Reality TV\\''",
     "output_type": "error",
     "traceback": [
      "\u001b[1;31m---------------------------------------------------------------------------\u001b[0m",
      "\u001b[1;31mKeyError\u001b[0m                                  Traceback (most recent call last)",
      "\u001b[1;32m<ipython-input-76-0e6281beefd5>\u001b[0m in \u001b[0;36m<module>\u001b[1;34m\u001b[0m\n\u001b[1;32m----> 1\u001b[1;33m \u001b[0mdf\u001b[0m\u001b[1;33m.\u001b[0m\u001b[0mgroupby\u001b[0m\u001b[1;33m(\u001b[0m\u001b[0mdf\u001b[0m\u001b[1;33m[\u001b[0m\u001b[1;34m'type'\u001b[0m\u001b[1;33m]\u001b[0m\u001b[1;33m)\u001b[0m\u001b[1;33m[\u001b[0m\u001b[0mgenra\u001b[0m\u001b[1;33m]\u001b[0m\u001b[1;33m\u001b[0m\u001b[1;33m\u001b[0m\u001b[0m\n\u001b[0m",
      "\u001b[1;32m~\\Anaconda3\\lib\\site-packages\\pandas\\core\\base.py\u001b[0m in \u001b[0;36m__getitem__\u001b[1;34m(self, key)\u001b[0m\n\u001b[0;32m    255\u001b[0m                 \u001b[0mbad_keys\u001b[0m \u001b[1;33m=\u001b[0m \u001b[0mlist\u001b[0m\u001b[1;33m(\u001b[0m\u001b[0mset\u001b[0m\u001b[1;33m(\u001b[0m\u001b[0mkey\u001b[0m\u001b[1;33m)\u001b[0m\u001b[1;33m.\u001b[0m\u001b[0mdifference\u001b[0m\u001b[1;33m(\u001b[0m\u001b[0mself\u001b[0m\u001b[1;33m.\u001b[0m\u001b[0mobj\u001b[0m\u001b[1;33m.\u001b[0m\u001b[0mcolumns\u001b[0m\u001b[1;33m)\u001b[0m\u001b[1;33m)\u001b[0m\u001b[1;33m\u001b[0m\u001b[1;33m\u001b[0m\u001b[0m\n\u001b[0;32m    256\u001b[0m                 raise KeyError(\n\u001b[1;32m--> 257\u001b[1;33m                     \u001b[1;34m\"Columns not found: {missing}\"\u001b[0m\u001b[1;33m.\u001b[0m\u001b[0mformat\u001b[0m\u001b[1;33m(\u001b[0m\u001b[0mmissing\u001b[0m\u001b[1;33m=\u001b[0m\u001b[0mstr\u001b[0m\u001b[1;33m(\u001b[0m\u001b[0mbad_keys\u001b[0m\u001b[1;33m)\u001b[0m\u001b[1;33m[\u001b[0m\u001b[1;36m1\u001b[0m\u001b[1;33m:\u001b[0m\u001b[1;33m-\u001b[0m\u001b[1;36m1\u001b[0m\u001b[1;33m]\u001b[0m\u001b[1;33m)\u001b[0m\u001b[1;33m\u001b[0m\u001b[1;33m\u001b[0m\u001b[0m\n\u001b[0m\u001b[0;32m    258\u001b[0m                 )\n\u001b[0;32m    259\u001b[0m             \u001b[1;32mreturn\u001b[0m \u001b[0mself\u001b[0m\u001b[1;33m.\u001b[0m\u001b[0m_gotitem\u001b[0m\u001b[1;33m(\u001b[0m\u001b[0mlist\u001b[0m\u001b[1;33m(\u001b[0m\u001b[0mkey\u001b[0m\u001b[1;33m)\u001b[0m\u001b[1;33m,\u001b[0m \u001b[0mndim\u001b[0m\u001b[1;33m=\u001b[0m\u001b[1;36m2\u001b[0m\u001b[1;33m)\u001b[0m\u001b[1;33m\u001b[0m\u001b[1;33m\u001b[0m\u001b[0m\n",
      "\u001b[1;31mKeyError\u001b[0m: 'Columns not found: \\'TV Sci-Fi & Fantasy\\', \\'Comedies\\', \\'Sports Movies\\', \\'Anime Features\\', \\'Movies\\', \\'Romantic Movies\\', \\'Thrillers\\', \\'Faith & Spirituality\\', \\'TV Thrillers\\', \\'Action & Adventure\\', \\'Cult Movies\\', \"Kids\\' TV\", \\'British TV Shows\\', \\'Music & Musicals\\', \\'Stand-Up Comedy\\', \\'Classic & Cult TV\\', \\'International Movies\\', \\'International TV Shows\\', \\'Children & Family Movies\\', \\'Romantic TV Shows\\', \\'Horror Movies\\', \\'Sci-Fi & Fantasy\\', \\'Anime Series\\', \\'Korean TV Shows\\', \\'TV Horror\\', \\'Docuseries\\', \\'TV Dramas\\', \\'Classic Movies\\', \\'Teen TV Shows\\', \\'Documentaries\\', \\'Science & Nature TV\\', \\'Spanish-Language TV Shows\\', \\'Crime TV Shows\\', \\'TV Mysteries\\', \\'TV Shows\\', \\'Independent Movies\\', \\'LGBTQ Movies\\', \\'Dramas\\', \\'TV Action & Adventure\\', \\'Stand-Up Comedy & Talk Shows\\', \\'TV Comedies\\', \\'Reality TV\\''"
     ]
    }
   ],
   "source": [
    "df.groupby(df['type'])[genra]"
   ]
  },
  {
   "cell_type": "code",
   "execution_count": 77,
   "metadata": {},
   "outputs": [
    {
     "data": {
      "text/html": [
       "<div>\n",
       "<style scoped>\n",
       "    .dataframe tbody tr th:only-of-type {\n",
       "        vertical-align: middle;\n",
       "    }\n",
       "\n",
       "    .dataframe tbody tr th {\n",
       "        vertical-align: top;\n",
       "    }\n",
       "\n",
       "    .dataframe thead th {\n",
       "        text-align: right;\n",
       "    }\n",
       "</style>\n",
       "<table border=\"1\" class=\"dataframe\">\n",
       "  <thead>\n",
       "    <tr style=\"text-align: right;\">\n",
       "      <th></th>\n",
       "      <th>title</th>\n",
       "      <th>release_year</th>\n",
       "    </tr>\n",
       "  </thead>\n",
       "  <tbody>\n",
       "    <tr>\n",
       "      <td>4867</td>\n",
       "      <td>Pioneers: First Women Filmmakers*</td>\n",
       "      <td>1925</td>\n",
       "    </tr>\n",
       "    <tr>\n",
       "      <td>6117</td>\n",
       "      <td>The Battle of Midway</td>\n",
       "      <td>1942</td>\n",
       "    </tr>\n",
       "    <tr>\n",
       "      <td>4960</td>\n",
       "      <td>Prelude to War</td>\n",
       "      <td>1942</td>\n",
       "    </tr>\n",
       "    <tr>\n",
       "      <td>7679</td>\n",
       "      <td>WWII: Report from the Aleutians</td>\n",
       "      <td>1943</td>\n",
       "    </tr>\n",
       "    <tr>\n",
       "      <td>7342</td>\n",
       "      <td>Undercover: How to Operate Behind Enemy Lines</td>\n",
       "      <td>1943</td>\n",
       "    </tr>\n",
       "    <tr>\n",
       "      <td>7616</td>\n",
       "      <td>Why We Fight: The Battle of Russia</td>\n",
       "      <td>1943</td>\n",
       "    </tr>\n",
       "    <tr>\n",
       "      <td>7268</td>\n",
       "      <td>Tunisian Victory</td>\n",
       "      <td>1944</td>\n",
       "    </tr>\n",
       "    <tr>\n",
       "      <td>6699</td>\n",
       "      <td>The Negro Soldier</td>\n",
       "      <td>1944</td>\n",
       "    </tr>\n",
       "    <tr>\n",
       "      <td>6657</td>\n",
       "      <td>The Memphis Belle: A Story of a\\nFlying Fortress</td>\n",
       "      <td>1944</td>\n",
       "    </tr>\n",
       "    <tr>\n",
       "      <td>5371</td>\n",
       "      <td>San Pietro</td>\n",
       "      <td>1945</td>\n",
       "    </tr>\n",
       "  </tbody>\n",
       "</table>\n",
       "</div>"
      ],
      "text/plain": [
       "                                                 title  release_year\n",
       "4867                 Pioneers: First Women Filmmakers*          1925\n",
       "6117                              The Battle of Midway          1942\n",
       "4960                                    Prelude to War          1942\n",
       "7679                   WWII: Report from the Aleutians          1943\n",
       "7342     Undercover: How to Operate Behind Enemy Lines          1943\n",
       "7616                Why We Fight: The Battle of Russia          1943\n",
       "7268                                  Tunisian Victory          1944\n",
       "6699                                 The Negro Soldier          1944\n",
       "6657  The Memphis Belle: A Story of a\\nFlying Fortress          1944\n",
       "5371                                        San Pietro          1945"
      ]
     },
     "execution_count": 77,
     "metadata": {},
     "output_type": "execute_result"
    }
   ],
   "source": [
    "sort_data = df.sort_values(\"release_year\", ascending = True)\n",
    "sort_data[['title', \"release_year\"]][:10]"
   ]
  },
  {
   "cell_type": "code",
   "execution_count": null,
   "metadata": {},
   "outputs": [],
   "source": []
  }
 ],
 "metadata": {
  "kernelspec": {
   "display_name": "Python 3",
   "language": "python",
   "name": "python3"
  },
  "language_info": {
   "codemirror_mode": {
    "name": "ipython",
    "version": 3
   },
   "file_extension": ".py",
   "mimetype": "text/x-python",
   "name": "python",
   "nbconvert_exporter": "python",
   "pygments_lexer": "ipython3",
   "version": "3.7.4"
  }
 },
 "nbformat": 4,
 "nbformat_minor": 2
}
